{
 "cells": [
  {
   "cell_type": "code",
   "execution_count": 1,
   "metadata": {},
   "outputs": [
    {
     "name": "stderr",
     "output_type": "stream",
     "text": [
      "configrc.store_credentials:WARNING:2021-05-07 11:37:04,741: Credentials already present. Set overwrite=True to overwrite.\n",
      "C:\\Users\\kzhang\\Anaconda3\\lib\\site-packages\\qiskit\\providers\\ibmq\\ibmqfactory.py:109: UserWarning: Timestamps in IBMQ backend properties, jobs, and job results are all now in local time instead of UTC.\n",
      "  warnings.warn('Timestamps in IBMQ backend properties, jobs, and job results '\n"
     ]
    }
   ],
   "source": [
    "# Import packages\n",
    "import math\n",
    "import numpy as np\n",
    "import pickle as pk\n",
    "import qiskit as qk\n",
    "\n",
    "# Load IBM backend and provider\n",
    "token_idx, batch_idx = 5, 23\n",
    "with open('..\\\\..\\\\token_dictionary.p', 'rb') as f:\n",
    "    token_dict = pk.load(f)\n",
    "token_values = list(token_dict.values())\n",
    "token = token_values[token_idx-1]\n",
    "try:\n",
    "    qk.IBMQ.disable_account()\n",
    "except:\n",
    "    pass\n",
    "qk.IBMQ.save_account(token=token)\n",
    "qk.IBMQ.enable_account(token)\n",
    "provider = qk.IBMQ.get_provider(hub = 'ibm-q')\n",
    "backend = provider.get_backend('ibmq_5_yorktown') # Yorktown hardware\n",
    "shots = 8192\n",
    "\n",
    "qr = qk.QuantumRegister(1)\n",
    "cr = qk.ClassicalRegister(1)"
   ]
  },
  {
   "cell_type": "code",
   "execution_count": 2,
   "metadata": {},
   "outputs": [],
   "source": [
    "# Create circuits\n",
    "def makeCirc(gates, gate_list):\n",
    "    circ = qk.QuantumCircuit(qr,cr)\n",
    "    for g in range(gates):\n",
    "        circ.u3(gate_list[g][0], gate_list[g][1], gate_list[g][2], 0)\n",
    "    circ.measure(0,0)\n",
    "    return circ\n",
    "\n",
    "# Return fidelity using counts\n",
    "def getProb(state, counts, shots):\n",
    "    if state in counts.keys(): \n",
    "        return counts[state]/shots\n",
    "    else: \n",
    "        return 0"
   ]
  },
  {
   "cell_type": "code",
   "execution_count": 3,
   "metadata": {},
   "outputs": [],
   "source": [
    "# Run circuits\n",
    "circ_list = pk.load(open('..\\\\..\\\\data_york(1_2).p','rb'))[batch_idx]\n",
    "circ_run = []\n",
    "for circ in circ_list:\n",
    "    circ_run.append(makeCirc(circ['gates'], circ['gate_list']))"
   ]
  },
  {
   "cell_type": "code",
   "execution_count": 21,
   "metadata": {},
   "outputs": [],
   "source": [
    "# Process results\n",
    "results = qk.execute(circ_run, backend=backend, shots=shots).result()\n",
    "fidelities = [getProb('0x0', results.data(k)['counts'], shots) for k in range(len(circ_run))]"
   ]
  },
  {
   "cell_type": "code",
   "execution_count": 22,
   "metadata": {},
   "outputs": [],
   "source": [
    "# Save results\n",
    "all_circs = pk.load(open('..\\\\..\\\\data_york(1_2).p','rb'))\n",
    "circ_list = all_circs[batch_idx]\n",
    "for circ_idx in range(len(circ_list)):\n",
    "    circ_list[circ_idx]['fidelity'] = fidelities[circ_idx]\n",
    "pk.dump(all_circs, open('..\\\\..\\\\data_york(1_2).p','wb'))"
   ]
  },
  {
   "cell_type": "code",
   "execution_count": null,
   "metadata": {},
   "outputs": [],
   "source": []
  }
 ],
 "metadata": {
  "kernelspec": {
   "display_name": "Python 3",
   "language": "python",
   "name": "python3"
  },
  "language_info": {
   "codemirror_mode": {
    "name": "ipython",
    "version": 3
   },
   "file_extension": ".py",
   "mimetype": "text/x-python",
   "name": "python",
   "nbconvert_exporter": "python",
   "pygments_lexer": "ipython3",
   "version": "3.7.6"
  }
 },
 "nbformat": 4,
 "nbformat_minor": 4
}
