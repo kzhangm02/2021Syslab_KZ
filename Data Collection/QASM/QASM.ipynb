{
 "cells": [
  {
   "cell_type": "code",
   "execution_count": 1,
   "metadata": {},
   "outputs": [
    {
     "data": {
      "text/plain": [
       "'0.15.1'"
      ]
     },
     "execution_count": 1,
     "metadata": {},
     "output_type": "execute_result"
    }
   ],
   "source": [
    "# Import packages\n",
    "import numpy as np\n",
    "import pickle as pk\n",
    "import qiskit as qk\n",
    "from qiskit import IBMQ, Aer\n",
    "import qiskit.providers.aer.noise as noise\n",
    "import random\n",
    "import warnings\n",
    "warnings.filterwarnings('ignore')\n",
    "\n",
    "# Load IBM backend and provider\n",
    "backendQASM = Aer.get_backend('qasm_simulator')\n",
    "IBMQ.load_account()\n",
    "provider = IBMQ.get_provider(hub = 'ibm-q')\n",
    "\n",
    "# Create thermal noise model\n",
    "noise_model = noise.NoiseModel()\n",
    "t1 = 30000\n",
    "t2 = 30000\n",
    "time_u3 = 500\n",
    "errors_u3 = noise.thermal_relaxation_error(t1, t2, time_u3)\n",
    "noise_model.add_quantum_error(errors_u3, 'u3', [0])\n",
    "\n",
    "qr = qk.QuantumRegister(1)\n",
    "cr = qk.ClassicalRegister(1)\n",
    "\n",
    "def u3Circ(theta, phi, lamda):\n",
    "    circ = qk.QuantumCircuit(qr,cr)\n",
    "    for k in range(len(theta)):\n",
    "        circ.u3(theta[k], phi[k], lamda[k], 0)\n",
    "    circ.measure(0,0)\n",
    "    return circ\n",
    "\n",
    "def getProb(state, counts, shots):\n",
    "    if state in counts.keys(): return counts[state]/shots\n",
    "    else: return 0\n",
    "\n",
    "qk.__version__"
   ]
  },
  {
   "cell_type": "code",
   "execution_count": 3,
   "metadata": {},
   "outputs": [
    {
     "data": {
      "text/plain": [
       "10000"
      ]
     },
     "execution_count": 3,
     "metadata": {},
     "output_type": "execute_result"
    }
   ],
   "source": [
    "# Create gate parameter list\n",
    "num_gates, data_size, shots = 100, 100, 8192\n",
    "X = []\n",
    "for k in range(1, num_gates+1):\n",
    "    for n in range(data_size):\n",
    "        temp = []\n",
    "        for _ in range(k):\n",
    "            temp += [round(np.random.rand()*2*np.pi-np.pi, 5), \n",
    "                     round(np.random.rand()*2*np.pi-np.pi, 5),\n",
    "                     round(np.random.rand()*2*np.pi-np.pi, 5)]\n",
    "        X.append(temp)\n",
    "random.shuffle(X)\n",
    "\n",
    "# Create circuit list\n",
    "circ_list = []\n",
    "for x in X:\n",
    "    circ_list.append(u3Circ(x[::3], x[1::3], x[2::3]))\n",
    "len(circ_list)"
   ]
  },
  {
   "cell_type": "code",
   "execution_count": 4,
   "metadata": {},
   "outputs": [],
   "source": [
    "# Run circuits and return results\n",
    "results = qk.execute(circ_list, backend=backendQASM, noise_model=noise_model, shots=shots, optimization_level=0).result()\n",
    "Y = [getProb('0', results.get_counts(k), shots) for k in range(num_gates*data_size)]\n",
    "\n",
    "# Buffer input data\n",
    "for k in range(len(X)):\n",
    "    X[k] = X[k] + [0.0]*(300-len(X[k]))"
   ]
  },
  {
   "cell_type": "code",
   "execution_count": 5,
   "metadata": {},
   "outputs": [],
   "source": [
    "# Save data\n",
    "with open('dataset_qasm.p', 'wb') as f:\n",
    "    pk.dump({'X':X,'Y':Y}, f)"
   ]
  },
  {
   "cell_type": "code",
   "execution_count": null,
   "metadata": {},
   "outputs": [],
   "source": []
  }
 ],
 "metadata": {
  "kernelspec": {
   "display_name": "Python 3",
   "language": "python",
   "name": "python3"
  },
  "language_info": {
   "codemirror_mode": {
    "name": "ipython",
    "version": 3
   },
   "file_extension": ".py",
   "mimetype": "text/x-python",
   "name": "python",
   "nbconvert_exporter": "python",
   "pygments_lexer": "ipython3",
   "version": "3.7.6"
  }
 },
 "nbformat": 4,
 "nbformat_minor": 4
}
