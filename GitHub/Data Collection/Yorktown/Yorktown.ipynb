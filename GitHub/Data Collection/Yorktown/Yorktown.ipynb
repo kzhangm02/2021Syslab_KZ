{
 "cells": [
  {
   "cell_type": "code",
   "execution_count": 1,
   "metadata": {},
   "outputs": [
    {
     "data": {
      "text/plain": [
       "{'qiskit-terra': '0.15.1',\n",
       " 'qiskit-aer': '0.6.1',\n",
       " 'qiskit-ignis': '0.4.0',\n",
       " 'qiskit-ibmq-provider': '0.8.0',\n",
       " 'qiskit-aqua': '0.7.5',\n",
       " 'qiskit': '0.20.0'}"
      ]
     },
     "execution_count": 1,
     "metadata": {},
     "output_type": "execute_result"
    }
   ],
   "source": [
    "# Import packages\n",
    "import numpy as np\n",
    "import qiskit as qk\n",
    "import pickle as pk\n",
    "import copy\n",
    "qk.__qiskit_version__"
   ]
  },
  {
   "cell_type": "code",
   "execution_count": 2,
   "metadata": {},
   "outputs": [
    {
     "data": {
      "text/plain": [
       "10000"
      ]
     },
     "execution_count": 2,
     "metadata": {},
     "output_type": "execute_result"
    }
   ],
   "source": [
    "# Create list of circuit objects (dictionary)\n",
    "gate_values = list(range(1, 101))\n",
    "realizations = 100\n",
    "realz_list = [realizations]*len(gate_values)\n",
    "experiments = []\n",
    "while len(gate_values) > 0:\n",
    "    gates = np.random.choice(gate_values)\n",
    "    gate_list = []\n",
    "    for g in range(gates):\n",
    "        gate_list.append([round(np.random.rand()*2*np.pi-np.pi, 5), \n",
    "                            round(np.random.rand()*2*np.pi-np.pi, 5),\n",
    "                            round(np.random.rand()*2*np.pi-np.pi, 5)])\n",
    "    circuit_dict = {'gates':gates, 'gate_list':gate_list, 'realz':realizations-realz_list[gates-1]+1}\n",
    "    realz_list[gates-1] -= 1\n",
    "    experiments.append(copy.deepcopy(circuit_dict))\n",
    "    if(realz_list[gates-1] == 0):\n",
    "        gate_values.remove(gates)\n",
    "len(experiments)"
   ]
  },
  {
   "cell_type": "code",
   "execution_count": 3,
   "metadata": {},
   "outputs": [],
   "source": [
    "# Partition circuits into batches of 75\n",
    "schedule_list = {}\n",
    "batch_size = 75\n",
    "for batch_idx in range(0, len(experiments), batch_size):\n",
    "    schedule_list[batch_idx//batch_size+1] = []\n",
    "    batch_circuits = experiments[batch_idx : batch_idx + batch_size]\n",
    "    for circ in batch_circuits:\n",
    "        circ['fidelity'] = None\n",
    "        schedule_list[batch_idx//batch_size+1].append(circ)"
   ]
  },
  {
   "cell_type": "code",
   "execution_count": 5,
   "metadata": {},
   "outputs": [],
   "source": [
    "# Save data\n",
    "pk.dump(schedule_list, open('dataset_york.p', 'wb'))"
   ]
  },
  {
   "cell_type": "code",
   "execution_count": null,
   "metadata": {},
   "outputs": [],
   "source": []
  }
 ],
 "metadata": {
  "kernelspec": {
   "display_name": "Python 3",
   "language": "python",
   "name": "python3"
  },
  "language_info": {
   "codemirror_mode": {
    "name": "ipython",
    "version": 3
   },
   "file_extension": ".py",
   "mimetype": "text/x-python",
   "name": "python",
   "nbconvert_exporter": "python",
   "pygments_lexer": "ipython3",
   "version": "3.7.6"
  }
 },
 "nbformat": 4,
 "nbformat_minor": 2
}
