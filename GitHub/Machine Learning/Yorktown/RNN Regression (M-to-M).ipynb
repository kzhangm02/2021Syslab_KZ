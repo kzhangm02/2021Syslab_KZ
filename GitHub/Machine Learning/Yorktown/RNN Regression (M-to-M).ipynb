{
 "cells": [
  {
   "cell_type": "code",
   "execution_count": 1,
   "metadata": {},
   "outputs": [
    {
     "data": {
      "text/plain": [
       "True"
      ]
     },
     "execution_count": 1,
     "metadata": {},
     "output_type": "execute_result"
    }
   ],
   "source": [
    "# Import packages\n",
    "import cmath\n",
    "import numpy as np\n",
    "import pickle as pk\n",
    "import matplotlib.pyplot as plt\n",
    "import tensorflow as tf\n",
    "import keras.backend as K\n",
    "from tensorflow import keras\n",
    "from tensorflow.keras import layers\n",
    "from sklearn.model_selection import train_test_split\n",
    "from sklearn.metrics import mean_squared_error\n",
    "from keras.layers import LSTMCell\n",
    "from tensorflow.python.keras import activations\n",
    "from tensorflow.python.ops import array_ops\n",
    "import tensorflow_addons as tfa\n",
    "tf.executing_eagerly()"
   ]
  },
  {
   "cell_type": "code",
   "execution_count": 2,
   "metadata": {},
   "outputs": [],
   "source": [
    "# Custom LSTM class\n",
    "class DenseLSTMCell(LSTMCell):\n",
    "\n",
    "    def __init__(self,\n",
    "        units,\n",
    "        activation='tanh',\n",
    "        recurrent_activation='hard_sigmoid',\n",
    "        dense_activation='tanh',\n",
    "        use_bias=True,\n",
    "        kernel_initializer='glorot_uniform',\n",
    "        recurrent_initializer='orthogonal',\n",
    "        bias_initializer='zeros',\n",
    "        unit_forget_bias=True,\n",
    "        kernel_regularizer=None,\n",
    "        recurrent_regularizer=None,\n",
    "        bias_regularizer=None,\n",
    "        kernel_constraint=None,\n",
    "        recurrent_constraint=None,\n",
    "        bias_constraint=None,\n",
    "        dropout=0.,\n",
    "        recurrent_dropout=0.,\n",
    "        **kwargs):\n",
    "        super(DenseLSTMCell, self).__init__(\n",
    "            units,\n",
    "            activation=activation,\n",
    "            recurrent_activation=recurrent_activation,\n",
    "            use_bias=use_bias,\n",
    "            kernel_initializer=kernel_initializer,\n",
    "            recurrent_initializer=recurrent_initializer,\n",
    "            bias_initializer=bias_initializer,\n",
    "            unit_forget_bias=unit_forget_bias,\n",
    "            kernel_regularizer=kernel_regularizer,\n",
    "            recurrent_regularizer=recurrent_regularizer,\n",
    "            bias_regularizer=bias_regularizer,\n",
    "            kernel_constraint=kernel_constraint,\n",
    "            recurrent_constraint=recurrent_constraint,\n",
    "            bias_constraint=bias_constraint,\n",
    "            dropout=dropout,\n",
    "            recurrent_dropout=recurrent_dropout,\n",
    "            implementation=kwargs.pop('implementation', 2),\n",
    "            **kwargs)\n",
    "        self.dense_activation = activations.get(dense_activation)\n",
    "        self.state_size = [self.units, self.units]\n",
    "        self.output_size = self.units\n",
    "    \n",
    "    def build(self, input_shape):\n",
    "        input_dim = input_shape[-1]\n",
    "        self.kernel = self.add_weight(\n",
    "            shape=(input_dim, self.units * 5),\n",
    "            name='kernel',\n",
    "            initializer=self.kernel_initializer,\n",
    "            regularizer=self.kernel_regularizer,\n",
    "            constraint=self.kernel_constraint)\n",
    "        \n",
    "        self.recurrent_kernel = self.add_weight(\n",
    "            shape=(self.units, self.units * 5),\n",
    "            name='recurrent_kernel',\n",
    "            initializer=self.recurrent_initializer,\n",
    "            regularizer=self.recurrent_regularizer,\n",
    "            constraint=self.recurrent_constraint)\n",
    "        \n",
    "        if self.use_bias:\n",
    "            if self.unit_forget_bias:\n",
    "                def bias_initializer(_, *args, **kwargs):\n",
    "                    return K.concatenate([\n",
    "                      self.bias_initializer((self.units,), *args, **kwargs),\n",
    "                      keras.initializers.get('ones')((self.units,), *args, **kwargs),\n",
    "                      self.bias_initializer((self.units * 3,), *args, **kwargs),\n",
    "                  ])\n",
    "            else:\n",
    "                bias_initializer = self.bias_initializer\n",
    "            self.bias = self.add_weight(shape=(self.units * 5,),\n",
    "              name='bias',\n",
    "              initializer=bias_initializer,\n",
    "              regularizer=self.bias_regularizer,\n",
    "              constraint=self.bias_constraint)\n",
    "        else:\n",
    "            self.bias = None\n",
    "            \n",
    "        self.dense_kernel = self.add_weight(\n",
    "            shape=(self.output_size, 3),\n",
    "            name='dense_kernel',\n",
    "            initializer='zeros')\n",
    "        \n",
    "        self.dense_bias = self.add_weight(\n",
    "            shape=(3,),\n",
    "            name='dense_kernel',\n",
    "            initializer='zeros')\n",
    "        \n",
    "        self.built = True\n",
    "    \n",
    "    def call(self, inputs, states, training=None):\n",
    "        h_tm1 = states[0]  # previous memory state\n",
    "        c_tm1 = states[1]  # previous carry state\n",
    "        \n",
    "        z = K.dot(inputs, self.kernel)\n",
    "        if self.use_bias:\n",
    "            z = K.bias_add(z, self.bias)\n",
    "\n",
    "        x_i, x_f, x_c, x_o, x_m = array_ops.split(z, num_or_size_splits=5, axis=1)\n",
    "        (self.recurrent_kernel_i,\n",
    "        self.recurrent_kernel_f,\n",
    "        self.recurrent_kernel_c,\n",
    "        self.recurrent_kernel_o,\n",
    "        self.recurrent_kernel_m) = array_ops.split(self.recurrent_kernel, num_or_size_splits=5, axis=1)\n",
    "        \n",
    "        m = x_m * K.dot(h_tm1, self.recurrent_kernel_m)\n",
    "        \n",
    "        # m = x_m * K.dot(h_tm1, self.recurrent_kernel_m)\n",
    "        i = self.recurrent_activation(x_i + K.dot(m, self.recurrent_kernel_i))\n",
    "        f = self.recurrent_activation(x_f + K.dot(m, self.recurrent_kernel_f))\n",
    "        c = f * c_tm1 + i * self.activation(x_c + K.dot(m, self.recurrent_kernel_c))\n",
    "        o = self.recurrent_activation(x_o + K.dot(m, self.recurrent_kernel_o))\n",
    "\n",
    "        h = o * self.activation(c)\n",
    "        factor = tf.math.abs(tf.math.sign(tf.reshape(tf.reduce_sum(inputs, axis=1), shape=(-1, 1))))\n",
    "        h_dense = tf.math.multiply(factor, tf.matmul(h, self.dense_kernel) + self.dense_bias)\n",
    "        # h_dense = self.dense_activation(tf.math.multiply(factor, tf.matmul(h, self.dense_kernel) + self.dense_bias))\n",
    "        return h_dense, [h, c]"
   ]
  },
  {
   "cell_type": "code",
   "execution_count": 3,
   "metadata": {},
   "outputs": [],
   "source": [
    "# Define constants\n",
    "cos_const = tf.constant([[1., 0., 0., 1.]], dtype=tf.complex64)\n",
    "sin_const = tf.constant([[0., -1., 1., 0.]], dtype=tf.complex64)\n",
    "phi_const = 1j * tf.constant([[0., 0., 1., 1.]], dtype=tf.complex64)\n",
    "lam_const = 1j * tf.constant([[0., 1., 0., 1.]], dtype=tf.complex64)\n",
    "\n",
    "# Define U3 gates in Tensorflow\n",
    "def tf_u3(thetas, phis, lamdas, batch_size, num_mats):\n",
    "    cos_mat = tf.matmul(tf.math.cos(thetas/2), cos_const)\n",
    "    sin_mat = tf.matmul(tf.math.sin(thetas/2), sin_const)\n",
    "    trig_mat = tf.add(cos_mat, sin_mat)\n",
    "    exp_mat = tf.math.exp(tf.add(tf.matmul(phis, phi_const), tf.matmul(lamdas, lam_const)))\n",
    "    param_mat = tf.math.multiply(trig_mat, exp_mat)\n",
    "    u3_mat = tf.reshape(param_mat, shape=(batch_size, num_mats, 2, 2))\n",
    "    return u3_mat\n",
    "\n",
    "# Transform gate parameters to U3 gate\n",
    "def tensor_to_u3(X_in, batch_size, num_mats):\n",
    "    X_in = tf.cast(X_in, dtype=tf.complex64)\n",
    "    return tf_u3(*tf.split(X_in, num_or_size_splits=3, axis=2), batch_size, num_mats)\n",
    "\n",
    "# Alternate applied and noisy gates\n",
    "def alternate_gates(applied, noise, batch_size, num_mats):\n",
    "    applied_expand = tf.expand_dims(applied, 2)\n",
    "    noise_expand = tf.expand_dims(noise, 2)\n",
    "    seq = tf.reshape(tf.concat((applied_expand, noise_expand), 2), shape=(batch_size, 2 * num_mats, 2, 2))\n",
    "    return seq\n",
    "\n",
    "# Reduce tensor by taking matrix product along axis 1\n",
    "def reduce_mat_prod(X_in, batch_size, num_mats):\n",
    "    mat_splice = tf.split(X_in, num_or_size_splits=num_mats, axis=1)\n",
    "    result = mat_splice[0]\n",
    "    for k in range(1, num_mats):\n",
    "        result = tf.matmul(mat_splice[k], result)\n",
    "    return tf.squeeze(result)\n",
    "\n",
    "# Return fidelity from oepration matrix\n",
    "def get_fid(final_ops):\n",
    "    fids = tf.square(tf.abs(final_ops[:,0][:,0:1]))\n",
    "    return fids"
   ]
  },
  {
   "cell_type": "code",
   "execution_count": 4,
   "metadata": {},
   "outputs": [],
   "source": [
    "# Define U3 gate\n",
    "def u3_matrix(theta, phi, lamda):\n",
    "    return np.array([[np.cos(theta/2),                  -cmath.exp(1j*lamda)*np.sin(theta/2)],\n",
    "                    [cmath.exp(1j*phi)*np.sin(theta/2), cmath.exp(1j*(phi+lamda))*np.cos(theta/2)]])\n",
    "\n",
    "# Transform gate parameters to U3 gate\n",
    "def matrix_transform(X_in):\n",
    "    X = [[u3_matrix(*parameter_list[3*k:3*k+3]) for k in range(len(parameter_list)//3)] for parameter_list in X_in]\n",
    "    return tf.constant(X, dtype=tf.complex64)\n",
    "\n",
    "# Create parameters\n",
    "def params(num, theta, phi, lamda, num_params):\n",
    "    if theta == 0.0 and phi == 0.0 and lamda == 0.0:\n",
    "        return [0.0] * num_params\n",
    "    return np.array([num, theta, phi, lamda, theta**2/2, phi**2/2, lamda**2/2,\n",
    "                     np.cos(theta/2), np.sin(theta/2),\n",
    "                     np.sin(theta/2) * np.cos(phi), np.sin(theta/2) * np.sin(phi),\n",
    "                     np.sin(theta/2) * np.cos(lamda), np.sin(theta/2) * np.sin(lamda),\n",
    "                     np.cos(theta/2) * np.cos(phi + lamda), np.cos(theta/2) * np.sin(phi + lamda)])\n",
    "\n",
    "# Transform theta, phi, lambda parameters\n",
    "def param_transform(X_in, num_params):\n",
    "    p_length = len(X_in[0])//3\n",
    "    X = [[params((k+1)/p_length, *parameter_list[3*k:3*k+3], num_params) for k in range(p_length)] for parameter_list in X_in]\n",
    "    return np.array(X)\n",
    "    \n",
    "# Load data from data set\n",
    "def load_data(num_gates, num_params):\n",
    "    with open('..//..//Data Collection//Yorktown//dataset_york.p', 'rb') as f:\n",
    "        data_set = pk.load(f)\n",
    "    X, Y = param_transform(np.array(data_set['X']), num_params), np.array(data_set['Y'])\n",
    "    X, Y = X.reshape(len(X), num_gates, num_params), Y.reshape(len(Y), 1)\n",
    "    data = (train_test_split(X, Y, train_size=0.8, test_size=0.2, random_state=42))\n",
    "    return data\n",
    "\n",
    "# Augment output tensor by adding input gate elements\n",
    "def augment_y(X_in, Y_in, num_gates):\n",
    "    data_size = len(X_in)\n",
    "    X_in = tf.constant(X_in[:,:,0:3], dtype=tf.float32)\n",
    "    X_in_reshape = tf.reshape(X_in, shape=(data_size, 3 * num_gates))\n",
    "    X_in_mat = matrix_transform(X_in_reshape.numpy())\n",
    "    X_in_mat_reshape = tf.reshape(X_in_mat, shape=(data_size, 1, 4 * num_gates))\n",
    "    Y_in = tf.cast(tf.concat((Y_in, X_in_mat_reshape[:,0]), axis=1), dtype=tf.complex64)\n",
    "    return Y_in"
   ]
  },
  {
   "cell_type": "code",
   "execution_count": 5,
   "metadata": {},
   "outputs": [],
   "source": [
    "# Load data\n",
    "num_gates = 100\n",
    "num_params = 15\n",
    "data = load_data(num_gates, num_params)\n",
    "x_train, x_test, y_train, y_test = data\n",
    "x_train = tf.constant(x_train, dtype=tf.float32)\n",
    "x_test = tf.constant(x_test, dtype=tf.float32)\n",
    "\n",
    "# Augment output\n",
    "y_train = augment_y(x_train[:,:, 1:], y_train, num_gates)\n",
    "y_test = augment_y(x_test[:,:, 1:], y_test, num_gates)"
   ]
  },
  {
   "cell_type": "code",
   "execution_count": 6,
   "metadata": {},
   "outputs": [
    {
     "name": "stdout",
     "output_type": "stream",
     "text": [
      "Model: \"sequential\"\n",
      "_________________________________________________________________\n",
      "Layer (type)                 Output Shape              Param #   \n",
      "=================================================================\n",
      "conv1d_transpose (Conv1DTran (None, None, 64)          1024      \n",
      "_________________________________________________________________\n",
      "lstm (LSTM)                  (None, None, 32)          12416     \n",
      "_________________________________________________________________\n",
      "lstm_1 (LSTM)                (None, None, 32)          8320      \n",
      "_________________________________________________________________\n",
      "rnn (RNN)                    (None, None, 3)           10499     \n",
      "=================================================================\n",
      "Total params: 32,259\n",
      "Trainable params: 32,259\n",
      "Non-trainable params: 0\n",
      "_________________________________________________________________\n"
     ]
    }
   ],
   "source": [
    "# Define custom loss function by alternating applied and noisy gates, then multiplying matrices\n",
    "def loss(y_true, y_pred):\n",
    "    y_pred = tf.cast(y_pred, dtype=tf.float32)\n",
    "    batch_size = tf.cast(len(y_true), dtype=tf.float32)\n",
    "\n",
    "    fid = tf.cast(y_true[:,0:1], dtype=tf.float32)\n",
    "    u3_elems = y_true[:,1:]\n",
    "    \n",
    "    # Create applied and noisy gates\n",
    "    applied = tf.reshape(u3_elems, shape=(batch_size, num_gates, 2, 2))\n",
    "    noise = tensor_to_u3(y_pred, batch_size, num_gates)\n",
    "\n",
    "    # Alternate applied and noisy gates and calculate reduced matrix product\n",
    "    seq = alternate_gates(applied, noise, batch_size, num_gates)    \n",
    "    ops = reduce_mat_prod(seq, batch_size, 2 * num_gates)\n",
    "    fid_pred = get_fid(ops)\n",
    "    \n",
    "    cost = tf.divide(tf.reduce_sum(tf.square(fid-fid_pred)), batch_size)\n",
    "    return tf.sqrt(cost)\n",
    "\n",
    "# LSTM model\n",
    "model = keras.models.Sequential([\n",
    "    keras.Input(shape=(None, num_params)),\n",
    "    keras.layers.Conv1DTranspose(64, 1, activation='tanh'),\n",
    "    keras.layers.LSTM(units=32, input_shape=(None, 32), activation='tanh', return_sequences=True),\n",
    "    keras.layers.LSTM(units=32, input_shape=(None, 32), activation='tanh', return_sequences=True),\n",
    "    keras.layers.RNN(DenseLSTMCell(units=32, input_shape=(None, 32), activation='tanh', dense_activation='tanh'), \n",
    "                     return_sequences=True)\n",
    "])\n",
    "\n",
    "# Building model\n",
    "optimizer = keras.optimizers.Adam(learning_rate=5e-5)\n",
    "model.compile(loss=loss, optimizer=optimizer)\n",
    "model.summary()"
   ]
  },
  {
   "cell_type": "code",
   "execution_count": 8,
   "metadata": {},
   "outputs": [
    {
     "name": "stdout",
     "output_type": "stream",
     "text": [
      "Epoch 1/2\n",
      "250/250 [==============================] - 24s 95ms/step - loss: 0.0644 - val_loss: 0.0646\n",
      "Epoch 2/2\n",
      "250/250 [==============================] - 23s 92ms/step - loss: 0.0644 - val_loss: 0.0645\n"
     ]
    },
    {
     "data": {
      "text/plain": [
       "<tensorflow.python.keras.callbacks.History at 0x171800382c8>"
      ]
     },
     "execution_count": 8,
     "metadata": {},
     "output_type": "execute_result"
    }
   ],
   "source": [
    "# Train\n",
    "model.fit(x_train, y_train, epochs=2, validation_data=(x_test, y_test))"
   ]
  },
  {
   "cell_type": "code",
   "execution_count": 9,
   "metadata": {},
   "outputs": [],
   "source": [
    "def num_of_gates(X):\n",
    "    count = 0\n",
    "    while count < 100 and X[count][1] != 0.0 and X[count][2] != 0.0 and X[count][3] != 0.0:\n",
    "        count += 1\n",
    "    return count\n",
    "\n",
    "# Define non-batched loss function\n",
    "def list_loss(y_true, y_pred):\n",
    "    y_pred = tf.cast(y_pred, dtype=tf.float32)\n",
    "    batch_size = tf.cast(len(y_true), dtype=tf.float32)\n",
    "\n",
    "    fid = tf.cast(y_true[:,0:1], dtype=tf.float32)\n",
    "    u3_elems = y_true[:,1:]\n",
    "    \n",
    "    applied = tf.reshape(u3_elems, shape=(batch_size, num_gates, 2, 2))\n",
    "    noise = tensor_to_u3(y_pred, batch_size, num_gates)\n",
    "\n",
    "    seq = alternate_gates(applied, noise, batch_size, num_gates)    \n",
    "    ops = reduce_mat_prod(seq, batch_size, 2 * num_gates)\n",
    "    fid_pred = get_fid(ops)\n",
    "    return fid_pred\n",
    "\n",
    "# Concatenate data\n",
    "x_all = np.concatenate([x_train, x_test])\n",
    "y_all = np.concatenate([y_train, y_test])\n",
    "noisy_gates = model.predict(x_all)\n",
    "y_predict = list_loss(y_all, noisy_gates)\n",
    "\n",
    "# Calculate fidelity difference: expected - predicted\n",
    "fid_dict = {}\n",
    "for k in range(100):\n",
    "    fid_dict[k+1] = []   \n",
    "for k in range(len(y_predict)):\n",
    "    g = num_of_gates(x_all[k])\n",
    "    fid_dict[g].append(y_all[k][0].real - y_predict[k][0])"
   ]
  },
  {
   "cell_type": "code",
   "execution_count": 10,
   "metadata": {},
   "outputs": [
    {
     "name": "stdout",
     "output_type": "stream",
     "text": [
      "0.06314855986002327\n"
     ]
    }
   ],
   "source": [
    "# Evaluate model\n",
    "rmse_rnn = []\n",
    "for k in range(1,99):\n",
    "    temp = np.array(fid_dict[k+1])\n",
    "    x = np.sqrt(np.sum(temp**2)/len(temp))\n",
    "    rmse_rnn.append(x)\n",
    "print(sum(rmse_rnn)/100)"
   ]
  },
  {
   "cell_type": "code",
   "execution_count": 11,
   "metadata": {},
   "outputs": [
    {
     "data": {
      "text/plain": [
       "[<matplotlib.lines.Line2D at 0x1718dad3848>]"
      ]
     },
     "execution_count": 11,
     "metadata": {},
     "output_type": "execute_result"
    },
    {
     "data": {
      "image/png": "[encoded data removed]",
      "text/plain": [
       "<Figure size 432x288 with 1 Axes>"
      ]
     },
     "metadata": {
      "needs_background": "light"
     },
     "output_type": "display_data"
    }
   ],
   "source": [
    "# Plot data\n",
    "plt.plot(rmse_rnn)"
   ]
  },
  {
   "cell_type": "code",
   "execution_count": 12,
   "metadata": {},
   "outputs": [],
   "source": [
    "# Save data\n",
    "pk.dump(rmse_rnn, open('rnn_york_rmse.p', 'wb'))"
   ]
  },
  {
   "cell_type": "code",
   "execution_count": null,
   "metadata": {},
   "outputs": [],
   "source": []
  }
 ],
 "metadata": {
  "kernelspec": {
   "display_name": "Python 3",
   "language": "python",
   "name": "python3"
  },
  "language_info": {
   "codemirror_mode": {
    "name": "ipython",
    "version": 3
   },
   "file_extension": ".py",
   "mimetype": "text/x-python",
   "name": "python",
   "nbconvert_exporter": "python",
   "pygments_lexer": "ipython3",
   "version": "3.7.9"
  }
 },
 "nbformat": 4,
 "nbformat_minor": 4
}
