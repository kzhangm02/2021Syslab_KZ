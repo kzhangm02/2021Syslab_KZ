{
 "cells": [
  {
   "cell_type": "code",
   "execution_count": 1,
   "metadata": {
    "scrolled": true
   },
   "outputs": [
    {
     "data": {
      "text/plain": [
       "True"
      ]
     },
     "execution_count": 1,
     "metadata": {},
     "output_type": "execute_result"
    }
   ],
   "source": [
    "# Import packages\n",
    "import cmath\n",
    "import numpy as np\n",
    "import pickle as pk\n",
    "import matplotlib.pyplot as plt\n",
    "import tensorflow as tf\n",
    "from functools import reduce\n",
    "from sklearn.model_selection import train_test_split\n",
    "from sklearn.metrics import mean_squared_error, r2_score as r2\n",
    "from sklearn.preprocessing import StandardScaler, PolynomialFeatures\n",
    "tf.executing_eagerly()"
   ]
  },
  {
   "cell_type": "code",
   "execution_count": 2,
   "metadata": {},
   "outputs": [],
   "source": [
    "# Define initial state\n",
    "state_i = tf.constant([[1.0], [0.0]], dtype='complex128')\n",
    "\n",
    "# Define U3 gate\n",
    "def u3_matrix(theta, phi, lamda):\n",
    "    if theta == 0.0 and phi == 0.0 and lamda == 0.0:\n",
    "        return np.array([[0.0, 0.0], [0.0, 0.0]])\n",
    "    return np.array([[np.cos(theta/2),                  -cmath.exp(1j*lamda)*np.sin(theta/2)],\n",
    "                    [cmath.exp(1j*phi)*np.sin(theta/2), cmath.exp(1j*(phi+lamda))*np.cos(theta/2)]])\n",
    "\n",
    "# Transform theta, phi, lambda parameters\n",
    "def matrix_transform(X):\n",
    "    new_X = []\n",
    "    for parameter_list in X:\n",
    "        temp = []\n",
    "        for k in range(len(parameter_list)//3):\n",
    "            temp.append(u3_matrix(*parameter_list[3*k:3*k+3]))\n",
    "        new_X.append(temp)\n",
    "    return np.array(new_X)\n",
    "\n",
    "# Create multilinear features\n",
    "def multi_features(X):\n",
    "    new_X = []\n",
    "    num_matrices = len(X[0])\n",
    "    for k in range(len(X)):\n",
    "        new_X.append([X[k][0]])\n",
    "        for mult_idx in range(1, num_matrices):\n",
    "            new_X[k].append(np.dot(X[k][mult_idx], new_X[k][-1]))\n",
    "    return np.array(new_X)\n",
    "\n",
    "# Reverse multilinear features\n",
    "def reverse(X):\n",
    "    new_X = []\n",
    "    num_matrices = len(X[0])\n",
    "    for k in range(len(X)):\n",
    "        p1 = np.array([])\n",
    "        p2 = np.array([])\n",
    "        for mat in range(num_matrices):\n",
    "            if X[k][mat][0][0] == 0.0 and X[k][mat][0][1] == 0.0:\n",
    "                p1 = X[k][:mat]\n",
    "                p2 = X[k][mat:]\n",
    "                break\n",
    "        p1 = p1[::-1]\n",
    "        if len(p1) == 0 and len(p2) == 0:\n",
    "            temp = np.concatenate([X[k][:num_matrices-1][::-1], [X[k][-1]]])\n",
    "        else:\n",
    "            temp = np.concatenate([p1, p2])\n",
    "        new_X.append(temp)\n",
    "    return np.array(new_X)\n",
    "\n",
    "# Load data from data set\n",
    "def load_data(num_gates):\n",
    "    with open('..//..//Data Collection//Yorktown//dataset_york.p', 'rb') as f:\n",
    "        data_set = pk.load(f)\n",
    "    X, Y = multi_features(matrix_transform(data_set['X'])), np.array(data_set['Y'])\n",
    "    X_order = np.array(reverse(X))\n",
    "    features = num_gates\n",
    "    data_size = len(X)\n",
    "    X, Y = X_order.reshape(data_size,features,2,2), Y.reshape(data_size,1)\n",
    "    data = (train_test_split(X, Y, train_size=0.8, test_size=0.2, random_state=42))\n",
    "    return data, data_size\n",
    "\n",
    "# Predict model output\n",
    "def predict(x_input):\n",
    "    weights = tf.complex(real, im)\n",
    "    product = tf.matmul(weights, x_input)\n",
    "    operator_f = tf.reduce_sum(product, axis=1)\n",
    "    born_zero = tf.matmul(tf.transpose(tf.matmul(operator_f, state_i), perm=[0,2,1]), state_i)\n",
    "    y_predict = tf.square(tf.abs(tf.reduce_sum(born_zero, axis=1)))\n",
    "    return y_predict\n",
    "\n",
    "# Define loss function\n",
    "def loss():\n",
    "    y_predict = predict(x_train)\n",
    "    cost = tf.reduce_sum(tf.square(y_train-y_predict))/(len(x_train))\n",
    "    return cost\n",
    "\n",
    "# Train model\n",
    "def train(num_epochs):\n",
    "    epochs = list(range(num_epochs))\n",
    "    opt = tf.keras.optimizers.SGD(learning_rate=0.1, momentum=0.2)\n",
    "    rmse_list = []\n",
    "    test_rmse_list = []\n",
    "    for i in epochs:\n",
    "        opt.minimize(loss, var_list=[real])\n",
    "        rmse_list.append(np.sqrt(loss().numpy()))\n",
    "        y_predict = predict(x_test)\n",
    "        test_rmse_list.append(np.sqrt(mean_squared_error(y_test, y_predict)))\n",
    "    return rmse_list, test_rmse_list"
   ]
  },
  {
   "cell_type": "code",
   "execution_count": 3,
   "metadata": {},
   "outputs": [],
   "source": [
    "# Load data\n",
    "num_gates = 100\n",
    "data, data_size = load_data(num_gates)\n",
    "x_train, x_test, y_train, y_test = data"
   ]
  },
  {
   "cell_type": "code",
   "execution_count": 4,
   "metadata": {
    "scrolled": true
   },
   "outputs": [],
   "source": [
    "# RMSE lists\n",
    "rmse_i = []\n",
    "rmse_f = []\n",
    "\n",
    "# Initialize theoretical weights\n",
    "features = num_gates\n",
    "real = tf.Variable([[[1.0,0.0],[0.0,1.0]]] + [[[0.0,0.0],[0.0,0.0]]]*(features-1), dtype='float64')\n",
    "im = tf.Variable([[[0.0,0.0],[0.0,0.0]]]*features, dtype='float64')\n",
    "y_predict = predict(x_test)\n",
    "rmse_i.append(np.sqrt(mean_squared_error(y_test, y_predict)))\n",
    "\n",
    "# Train model\n",
    "num_epochs = 25\n",
    "rmse_list, test_rmse_list = train(num_epochs)\n",
    "rmse_f.append(test_rmse_list[-1])"
   ]
  },
  {
   "cell_type": "code",
   "execution_count": 5,
   "metadata": {},
   "outputs": [
    {
     "data": {
      "text/plain": [
       "[<matplotlib.lines.Line2D at 0x26c6e57a448>]"
      ]
     },
     "execution_count": 5,
     "metadata": {},
     "output_type": "execute_result"
    },
    {
     "data": {
      "image/png": "[encoded data removed]",
      "text/plain": [
       "<Figure size 432x288 with 1 Axes>"
      ]
     },
     "metadata": {
      "needs_background": "light"
     },
     "output_type": "display_data"
    }
   ],
   "source": [
    "# Plot RMSE\n",
    "plt.plot(rmse_list)\n",
    "plt.plot(test_rmse_list)"
   ]
  },
  {
   "cell_type": "code",
   "execution_count": 6,
   "metadata": {},
   "outputs": [],
   "source": [
    "def num_of_gates(X):\n",
    "    count = 0\n",
    "    while count < 100 and X[count][0][0] != 0.0 and X[count][0][1] != 0.0:\n",
    "        count += 1\n",
    "    return count\n",
    "\n",
    "# Concatenate data\n",
    "x_all = np.concatenate([x_train, x_test])\n",
    "y_all = np.concatenate([y_train, y_test])\n",
    "y_predict = predict(x_all).numpy()\n",
    "\n",
    "# Calculate fidelity difference: expected - predicted\n",
    "fid_dict = {}\n",
    "for k in range(100):\n",
    "    fid_dict[k+1] = []   \n",
    "for k in range(len(y_predict)):\n",
    "    g = num_of_gates(x_all[k])\n",
    "    fid_dict[g].append(y_all[k][0] - y_predict[k][0])"
   ]
  },
  {
   "cell_type": "code",
   "execution_count": 7,
   "metadata": {},
   "outputs": [
    {
     "name": "stdout",
     "output_type": "stream",
     "text": [
      "0.05902963068551542\n"
     ]
    }
   ],
   "source": [
    "# Evaluate model\n",
    "rmse_multi = []\n",
    "for k in range(1,99):\n",
    "    temp = np.array(fid_dict[k+1])\n",
    "    x = np.sqrt(np.sum(temp**2)/len(temp))\n",
    "    rmse_multi.append(x)\n",
    "print(sum(rmse_multi)/100)"
   ]
  },
  {
   "cell_type": "code",
   "execution_count": 8,
   "metadata": {},
   "outputs": [
    {
     "data": {
      "text/plain": [
       "[<matplotlib.lines.Line2D at 0x26c000114c8>]"
      ]
     },
     "execution_count": 8,
     "metadata": {},
     "output_type": "execute_result"
    },
    {
     "data": {
      "image/png": "[encoded data removed]",
      "text/plain": [
       "<Figure size 432x288 with 1 Axes>"
      ]
     },
     "metadata": {
      "needs_background": "light"
     },
     "output_type": "display_data"
    }
   ],
   "source": [
    "# Plot data\n",
    "plt.plot(rmse_multi)"
   ]
  },
  {
   "cell_type": "code",
   "execution_count": 9,
   "metadata": {},
   "outputs": [],
   "source": [
    "# Save data\n",
    "pk.dump(rmse_multi, open('multi_york_rmse.p', 'wb'))"
   ]
  },
  {
   "cell_type": "code",
   "execution_count": null,
   "metadata": {},
   "outputs": [],
   "source": []
  }
 ],
 "metadata": {
  "kernelspec": {
   "display_name": "Python 3",
   "language": "python",
   "name": "python3"
  },
  "language_info": {
   "codemirror_mode": {
    "name": "ipython",
    "version": 3
   },
   "file_extension": ".py",
   "mimetype": "text/x-python",
   "name": "python",
   "nbconvert_exporter": "python",
   "pygments_lexer": "ipython3",
   "version": "3.7.9"
  }
 },
 "nbformat": 4,
 "nbformat_minor": 4
}
