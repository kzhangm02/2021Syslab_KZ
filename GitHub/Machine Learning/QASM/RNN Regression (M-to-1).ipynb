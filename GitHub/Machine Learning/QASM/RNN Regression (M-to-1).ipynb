{
 "cells": [
  {
   "cell_type": "code",
   "execution_count": 1,
   "metadata": {},
   "outputs": [
    {
     "data": {
      "text/plain": [
       "True"
      ]
     },
     "execution_count": 1,
     "metadata": {},
     "output_type": "execute_result"
    }
   ],
   "source": [
    "# Import packages\n",
    "import cmath\n",
    "import numpy as np\n",
    "import pickle as pk\n",
    "import matplotlib.pyplot as plt\n",
    "import tensorflow as tf\n",
    "from tensorflow import keras\n",
    "from tensorflow.keras import layers\n",
    "from sklearn.model_selection import train_test_split\n",
    "from sklearn.metrics import mean_squared_error\n",
    "tf.executing_eagerly()"
   ]
  },
  {
   "cell_type": "code",
   "execution_count": 2,
   "metadata": {},
   "outputs": [],
   "source": [
    "# Define U3 gate\n",
    "def u3_matrix(theta, phi, lamda):\n",
    "    return np.array([[np.cos(theta/2),                  -cmath.exp(1j*lamda)*np.sin(theta/2)],\n",
    "                    [cmath.exp(1j*phi)*np.sin(theta/2), cmath.exp(1j*(phi+lamda))*np.cos(theta/2)]])\n",
    "\n",
    "# Create parameters\n",
    "def params(theta, phi, lamda):\n",
    "    return np.array([[theta,\n",
    "                      phi,\n",
    "                      lamda,\n",
    "                      np.cos(theta),\n",
    "                      np.sin(theta),\n",
    "                      np.cos(phi)*np.sin(lamda),\n",
    "                      np.cos(phi)*np.sin(theta),\n",
    "                      np.cos(lamda)*np.sin(theta),\n",
    "                      np.cos(lamda)*np.sin(phi),\n",
    "                      np.sin(lamda)*np.sin(theta),\n",
    "                      np.sin(lamda)*np.sin(phi),\n",
    "                      np.sin(theta)*np.sin(phi),\n",
    "                      np.cos(lamda)*np.cos(phi),                      \n",
    "                      np.cos(phi)*np.cos(theta)*np.cos(lamda),\n",
    "                      np.sin(phi)*np.cos(theta)*np.cos(lamda),\n",
    "                      np.cos(phi)*np.cos(theta)*np.sin(lamda),\n",
    "                      np.sin(phi)*np.cos(theta)*np.sin(lamda)]])\n",
    "\n",
    "# Transform theta, phi, lambda parameters\n",
    "def matrix_transform(X):\n",
    "    new_X = []\n",
    "    for parameter_list in X:\n",
    "        new_X.append([params(*parameter_list[3*k:3*k+3]) for k in range(len(parameter_list)//3)])\n",
    "    return new_X\n",
    "\n",
    "# Load data from data set\n",
    "def load_data(num_gates):\n",
    "    with open('..//..//Data Collection//QASM//dataset_qasm.p', 'rb') as f:\n",
    "        data_set = pk.load(f)\n",
    "    X, Y = np.array(matrix_transform(data_set['X'])), np.array(data_set['Y'])\n",
    "    X = X.reshape(len(X), num_gates, 17)\n",
    "    Y = Y.reshape(len(Y),1)\n",
    "    data = (train_test_split(X, Y, train_size=0.8, test_size=0.2, random_state=42))\n",
    "    return data"
   ]
  },
  {
   "cell_type": "code",
   "execution_count": 3,
   "metadata": {},
   "outputs": [
    {
     "name": "stdout",
     "output_type": "stream",
     "text": [
      "Model: \"sequential\"\n",
      "_________________________________________________________________\n",
      "Layer (type)                 Output Shape              Param #   \n",
      "=================================================================\n",
      "conv1d_transpose (Conv1DTran (None, None, 64)          1152      \n",
      "_________________________________________________________________\n",
      "lstm (LSTM)                  (None, 64)                33024     \n",
      "_________________________________________________________________\n",
      "flatten (Flatten)            (None, 64)                0         \n",
      "_________________________________________________________________\n",
      "dense (Dense)                (None, 16)                1040      \n",
      "_________________________________________________________________\n",
      "dense_1 (Dense)              (None, 1)                 17        \n",
      "=================================================================\n",
      "Total params: 35,233\n",
      "Trainable params: 35,233\n",
      "Non-trainable params: 0\n",
      "_________________________________________________________________\n"
     ]
    }
   ],
   "source": [
    "# RMSE loss\n",
    "def loss(y_true, y_pred):\n",
    "    y_true = tf.cast(y_true, dtype=tf.float64)\n",
    "    y_pred = tf.cast(y_pred, dtype=tf.float64)\n",
    "    data_size = tf.cast(len(y_true), dtype=tf.float64)\n",
    "    cost = tf.math.divide(tf.reduce_sum(tf.square(y_true-y_pred)), data_size)\n",
    "    return tf.sqrt(cost)\n",
    "\n",
    "# LSTM model\n",
    "model = keras.models.Sequential([\n",
    "    keras.Input(shape=(None, 17)),\n",
    "    keras.layers.Conv1DTranspose(64, 1, activation='tanh'),\n",
    "    keras.layers.LSTM(units=64, activation='tanh', recurrent_dropout=0.2, input_shape=(None, 64)),\n",
    "    keras.layers.Flatten(),\n",
    "    keras.layers.Dense(16, activation='tanh'),\n",
    "    keras.layers.Dense(1)\n",
    "])\n",
    "\n",
    "# Building model\n",
    "optimizer = keras.optimizers.Adam(learning_rate=1e-4)\n",
    "model.compile(loss=loss, optimizer=optimizer)\n",
    "model.summary()"
   ]
  },
  {
   "cell_type": "code",
   "execution_count": 4,
   "metadata": {},
   "outputs": [],
   "source": [
    "# Load data\n",
    "num_gates = 100\n",
    "data = load_data(num_gates)\n",
    "x_train, x_test, y_train, y_test = data"
   ]
  },
  {
   "cell_type": "code",
   "execution_count": 5,
   "metadata": {},
   "outputs": [
    {
     "name": "stdout",
     "output_type": "stream",
     "text": [
      "Epoch 1/5\n",
      "250/250 [==============================] - 10s 34ms/step - loss: 0.2478 - val_loss: 0.1013\n",
      "Epoch 2/5\n",
      "250/250 [==============================] - 8s 31ms/step - loss: 0.0977 - val_loss: 0.0946\n",
      "Epoch 3/5\n",
      "250/250 [==============================] - 8s 32ms/step - loss: 0.0918 - val_loss: 0.0920\n",
      "Epoch 4/5\n",
      "250/250 [==============================] - 8s 32ms/step - loss: 0.0909 - val_loss: 0.0951\n",
      "Epoch 5/5\n",
      "250/250 [==============================] - 8s 32ms/step - loss: 0.0918 - val_loss: 0.0912\n"
     ]
    },
    {
     "data": {
      "text/plain": [
       "<tensorflow.python.keras.callbacks.History at 0x168a7934d08>"
      ]
     },
     "execution_count": 5,
     "metadata": {},
     "output_type": "execute_result"
    }
   ],
   "source": [
    "# Train\n",
    "model.fit(x_train, y_train, epochs=5, validation_data=(x_test, y_test))"
   ]
  },
  {
   "cell_type": "code",
   "execution_count": 6,
   "metadata": {},
   "outputs": [],
   "source": [
    "def num_of_gates(X):\n",
    "    count = 0\n",
    "    while count < 100 and X[count][1] != 0.0 and X[count][2] != 0.0 and X[count][3] != 0.0:\n",
    "        count += 1\n",
    "    return count\n",
    "\n",
    "# Concatenate data\n",
    "x_all = np.concatenate([x_train, x_test])\n",
    "y_all = np.concatenate([y_train, y_test])\n",
    "y_predict = model.predict(x_all)\n",
    "\n",
    "# Calculate fidelity difference: expected - predicted\n",
    "fid_dict = {}\n",
    "for k in range(100):\n",
    "    fid_dict[k+1] = []   \n",
    "for k in range(len(y_predict)):\n",
    "    g = num_of_gates(x_all[k])\n",
    "    fid_dict[g].append(y_all[k][0] - y_predict[k][0])"
   ]
  },
  {
   "cell_type": "code",
   "execution_count": 7,
   "metadata": {},
   "outputs": [
    {
     "name": "stdout",
     "output_type": "stream",
     "text": [
      "0.08106709430684084\n"
     ]
    }
   ],
   "source": [
    "# Evaluate model\n",
    "rmse_rnn = []\n",
    "for k in range(1,99):\n",
    "    temp = np.array(fid_dict[k+1])\n",
    "    x = np.sqrt(np.sum(temp**2)/len(temp))\n",
    "    rmse_rnn.append(x)\n",
    "print(sum(rmse_rnn)/100)"
   ]
  },
  {
   "cell_type": "code",
   "execution_count": 8,
   "metadata": {},
   "outputs": [
    {
     "data": {
      "text/plain": [
       "[<matplotlib.lines.Line2D at 0x168a3072948>]"
      ]
     },
     "execution_count": 8,
     "metadata": {},
     "output_type": "execute_result"
    },
    {
     "data": {
      "image/png": "[encoded data removed]",
      "text/plain": [
       "<Figure size 432x288 with 1 Axes>"
      ]
     },
     "metadata": {
      "needs_background": "light"
     },
     "output_type": "display_data"
    }
   ],
   "source": [
    "# Plot data\n",
    "plt.plot(rmse_rnn)"
   ]
  },
  {
   "cell_type": "code",
   "execution_count": 9,
   "metadata": {},
   "outputs": [],
   "source": [
    "# Save data\n",
    "pk.dump(rmse_rnn, open('rnn_qasm_rmse.p', 'wb'))"
   ]
  },
  {
   "cell_type": "code",
   "execution_count": null,
   "metadata": {},
   "outputs": [],
   "source": []
  }
 ],
 "metadata": {
  "kernelspec": {
   "display_name": "Python 3",
   "language": "python",
   "name": "python3"
  },
  "language_info": {
   "codemirror_mode": {
    "name": "ipython",
    "version": 3
   },
   "file_extension": ".py",
   "mimetype": "text/x-python",
   "name": "python",
   "nbconvert_exporter": "python",
   "pygments_lexer": "ipython3",
   "version": "3.7.9"
  }
 },
 "nbformat": 4,
 "nbformat_minor": 4
}
